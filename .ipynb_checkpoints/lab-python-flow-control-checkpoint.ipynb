{
 "cells": [
  {
   "cell_type": "markdown",
   "id": "d3bfc191-8885-42ee-b0a0-bbab867c6f9f",
   "metadata": {
    "editable": true,
    "slideshow": {
     "slide_type": ""
    },
    "tags": []
   },
   "source": [
    "# Lab | Flow Control"
   ]
  },
  {
   "cell_type": "markdown",
   "id": "3851fcd1-cf98-4653-9c89-e003b7ec9400",
   "metadata": {},
   "source": [
    "## Exercise: Managing Customer Orders Optimized\n",
    "\n",
    "In the last lab, you were starting an online store that sells various products. To ensure smooth operations, you developed a program that manages customer orders and inventory.\n",
    "\n",
    "You did so without using flow control. Let's go a step further and improve this code.\n",
    "\n",
    "Follow the steps below to complete the exercise:\n",
    "\n",
    "1. Look at your code from the lab data structures, and improve repeated code with loops.\n",
    "\n",
    "2. Instead of asking the user to input the name of three products that a customer wants to order, do the following:\n",
    "    \n",
    "    a. Prompt the user to enter the name of a product that a customer wants to order.\n",
    "    \n",
    "    b. Add the product name to the \"customer_orders\" set.\n",
    "    \n",
    "    c. Ask the user if they want to add another product (yes/no).\n",
    "    \n",
    "    d. Continue the loop until the user does not want to add another product.\n",
    "\n",
    "3. Instead of updating the inventory by subtracting 1 from the quantity of each product, only do it for  the products that were ordered (those in \"customer_orders\")."
   ]
  },
  {
   "cell_type": "code",
   "execution_count": 88,
   "id": "6d787f07-1f63-4c9b-850d-be4520ac551f",
   "metadata": {
    "editable": true,
    "slideshow": {
     "slide_type": ""
    },
    "tags": []
   },
   "outputs": [],
   "source": [
    "products = [\"t-shirt\", \"mug\", \"hat\", \"book\", \"keychain\"]\n",
    "inventory = {}"
   ]
  },
  {
   "cell_type": "code",
   "execution_count": 92,
   "id": "08e5808a-f048-4a4c-b38a-e3516bf5454c",
   "metadata": {
    "editable": true,
    "slideshow": {
     "slide_type": ""
    },
    "tags": []
   },
   "outputs": [
    {
     "name": "stdin",
     "output_type": "stream",
     "text": [
      "Enter quantity of the t-shirt:  1\n",
      "Enter quantity of the mug:  1\n",
      "Enter quantity of the hat:  1\n",
      "Enter quantity of the book:  1\n",
      "Enter quantity of the keychain:  1\n"
     ]
    }
   ],
   "source": [
    "#for product in products:\n",
    "for product in products:\n",
    "    quantity = input(f\"Enter quantity of the {product}: \")\n",
    "    \n",
    "    while not quantity.isdigit():\n",
    "        print(\"Pleae enter a valid number\")\n",
    "        quantity = input(f\"Enter the quantity for {products}: \")\n",
    "    inventory [product] = int (quantity)"
   ]
  },
  {
   "cell_type": "code",
   "execution_count": 96,
   "id": "06973faa-db9e-4e22-877f-bb88107a983f",
   "metadata": {},
   "outputs": [
    {
     "name": "stdout",
     "output_type": "stream",
     "text": [
      "Choose: ['t-shirt', 'mug', 'hat', 'book', 'keychain']\n"
     ]
    },
    {
     "name": "stdin",
     "output_type": "stream",
     "text": [
      "Enter the name of the product:  mug\n",
      "Do you want to add another product? (yes/no) no\n"
     ]
    },
    {
     "name": "stdout",
     "output_type": "stream",
     "text": [
      "Customer ordered products:  {'mug'}\n"
     ]
    }
   ],
   "source": [
    "customer_orders = set()\n",
    "print(f\"Choose: {products}\")\n",
    "\n",
    "while True:\n",
    "    order = input(\"Enter the name of the product: \")\n",
    "    \n",
    "    if order in products:\n",
    "        customer_orders.add(order)\n",
    "    else:\n",
    "        print(f\"{order} Sorry, please select the product from the list.\")\n",
    "        \n",
    "    answer = input(\"Do you want to add another product? (yes/no)\" ).strip().lower()\n",
    "    if answer == \"no\":\n",
    "        break\n",
    "    elif answer != \"yes\":\n",
    "        \n",
    "        print(\"Please enter yes or no\")        \n",
    "\n",
    "print(\"Customer ordered products: \", customer_orders)"
   ]
  },
  {
   "cell_type": "code",
   "execution_count": 98,
   "id": "4ef15b07-f891-43ba-a863-d8c93fe2b1d2",
   "metadata": {},
   "outputs": [],
   "source": [
    "# total products ordered\n",
    "total_order = len(customer_orders)\n",
    "#percentage of produts ordered\n",
    "percentage_ordered = (total_order / len(products))*100\n",
    "#stored in tuple\n",
    "order_status = (total_order, percentage_ordered) "
   ]
  },
  {
   "cell_type": "code",
   "execution_count": 100,
   "id": "650e3a9d-1735-46c0-a48f-8127a0672f3e",
   "metadata": {
    "editable": true,
    "slideshow": {
     "slide_type": ""
    },
    "tags": []
   },
   "outputs": [
    {
     "name": "stdout",
     "output_type": "stream",
     "text": [
      "Order Statistics:\n",
      "Total products ordered: 1\n",
      "Percentage of products ordered: 20.00%\n"
     ]
    }
   ],
   "source": [
    "#print \n",
    "print (\"Order Statistics:\")\n",
    "print (f\"Total products ordered: {order_status[0]}\")\n",
    "print (f\"Percentage of products ordered: {order_status[1]:.2f}%\")"
   ]
  },
  {
   "cell_type": "code",
   "execution_count": 102,
   "id": "8e3895c1-40ac-4906-8c2b-5301dda1bc5d",
   "metadata": {
    "editable": true,
    "slideshow": {
     "slide_type": ""
    },
    "tags": []
   },
   "outputs": [
    {
     "name": "stdout",
     "output_type": "stream",
     "text": [
      "Updated inventory: \n",
      "t-shirt: 1\n",
      "mug: 0\n",
      "hat: 1\n",
      "book: 1\n",
      "keychain: 1\n"
     ]
    }
   ],
   "source": [
    "#Instead of updating the inventory by subtracting 1 from the quantity of each product, only do it for the products that were ordered (those in \"customer_orders\").\n",
    "for product in customer_orders:\n",
    "    if product in inventory:\n",
    "        if inventory[product] > 0:\n",
    "            inventory[product] -= 1\n",
    "        else:\n",
    "            print(f\"Sorry, {product} is out of stock.\")\n",
    "\n",
    "print (\"Updated inventory: \")\n",
    "for product, quantity in inventory.items():\n",
    "    print(f\"{product}: {quantity}\")"
   ]
  },
  {
   "cell_type": "code",
   "execution_count": null,
   "id": "672376b9-102d-420b-aa09-b86ca8e5a817",
   "metadata": {},
   "outputs": [],
   "source": []
  }
 ],
 "metadata": {
  "kernelspec": {
   "display_name": "Python 3 (ipykernel)",
   "language": "python",
   "name": "python3"
  },
  "language_info": {
   "codemirror_mode": {
    "name": "ipython",
    "version": 3
   },
   "file_extension": ".py",
   "mimetype": "text/x-python",
   "name": "python",
   "nbconvert_exporter": "python",
   "pygments_lexer": "ipython3",
   "version": "3.12.4"
  }
 },
 "nbformat": 4,
 "nbformat_minor": 5
}
